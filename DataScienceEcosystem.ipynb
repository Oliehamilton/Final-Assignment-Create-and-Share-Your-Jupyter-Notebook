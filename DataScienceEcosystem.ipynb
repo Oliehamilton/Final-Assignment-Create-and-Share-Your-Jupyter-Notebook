{
 "cells": [
  {
   "cell_type": "markdown",
   "id": "f16ddffa",
   "metadata": {},
   "source": [
    "<h1>Data Science Tools and Ecosystem</h1>"
   ]
  },
  {
   "cell_type": "markdown",
   "id": "ec5ea515",
   "metadata": {},
   "source": [
    "<h3>In this notebook, Data Science Tools and Ecosystem are summarized.</h3>"
   ]
  },
  {
   "cell_type": "markdown",
   "id": "a0d448c2",
   "metadata": {},
   "source": [
    "<h4>Some of the popular languages that Data Scientists use are:</h4>\n",
    "\n",
    "1. R\n",
    "1. Scala\n",
    "1. Python\n",
    "1. Java\n",
    "1. SQL"
   ]
  },
  {
   "cell_type": "markdown",
   "id": "39b4670e",
   "metadata": {},
   "source": [
    "<h4>Some of the commonly used libraries used by Data Scientists include:</h4>\n",
    "\n",
    "1. Matplotlib\n",
    "2. NumPy\n",
    "3. Pandas"
   ]
  },
  {
   "cell_type": "markdown",
   "id": "c4d3b5b3",
   "metadata": {},
   "source": [
    "| Data Science Tools |\n",
    "|---|\n",
    "| Jupyter Notebook |\n",
    "|---|\n",
    "| Apache Hadoop |\n",
    "|---|\n",
    "| RStudio |"
   ]
  },
  {
   "cell_type": "markdown",
   "id": "412dd5dd",
   "metadata": {},
   "source": [
    "<h4>Below are a few examples of evaluating arithmetic expressions in Python</h4>"
   ]
  },
  {
   "cell_type": "code",
   "execution_count": 34,
   "id": "eef79d8e",
   "metadata": {
    "scrolled": true
   },
   "outputs": [
    {
     "name": "stdout",
     "output_type": "stream",
     "text": [
      "(3*4)+5 is equal to 17\n"
     ]
    }
   ],
   "source": [
    "#This is a straightforward mathematical formula to multiply\n",
    "#then add integers\n",
    "\n",
    "value = (3*4)+5\n",
    "print(f\"(3*4)+5 is equal to {value}\")"
   ]
  },
  {
   "cell_type": "code",
   "execution_count": 30,
   "id": "a993f2c8",
   "metadata": {},
   "outputs": [
    {
     "name": "stdout",
     "output_type": "stream",
     "text": [
      "200minutes in hours is 3.3333333333333335\n"
     ]
    }
   ],
   "source": [
    "#By dividing by 60, this will change 200 minutes into hours.\n",
    "minutes = 200\n",
    "hour = 60\n",
    "minutes_into_hours = 200 / 60\n",
    "\n",
    "print(f\"200minutes in hours is {minutes_into_hours}\")"
   ]
  },
  {
   "cell_type": "markdown",
   "id": "9a145335",
   "metadata": {},
   "source": [
    "**Objectives:**\n",
    "\n",
    "- List popular languages that Data Scientists use.\n",
    "- List commonly used libraries used by Data Scientists.\n",
    "- Using Arithmetic expressions\n",
    "- How to format text\n",
    "- Comment on Data Science tools."
   ]
  },
  {
   "cell_type": "markdown",
   "id": "7cb03823",
   "metadata": {},
   "source": [
    "<h2>Author:</h2> Diogo Monteiro"
   ]
  }
 ],
 "metadata": {
  "kernelspec": {
   "display_name": "Python 3 (ipykernel)",
   "language": "python",
   "name": "python3"
  },
  "language_info": {
   "codemirror_mode": {
    "name": "ipython",
    "version": 3
   },
   "file_extension": ".py",
   "mimetype": "text/x-python",
   "name": "python",
   "nbconvert_exporter": "python",
   "pygments_lexer": "ipython3",
   "version": "3.10.9"
  }
 },
 "nbformat": 4,
 "nbformat_minor": 5
}
